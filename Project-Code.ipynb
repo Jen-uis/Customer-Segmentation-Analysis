{
 "cells": [
  {
   "cell_type": "code",
   "execution_count": 1,
   "metadata": {},
   "outputs": [],
   "source": [
    "import pandas as pd"
   ]
  },
  {
   "cell_type": "code",
   "execution_count": 2,
   "metadata": {},
   "outputs": [],
   "source": [
    "train_data = pd.read_csv(\"Data/train.csv\")\n",
    "test_data = pd.read_csv(\"Data/test.csv\")"
   ]
  },
  {
   "cell_type": "code",
   "execution_count": 5,
   "metadata": {},
   "outputs": [
    {
     "name": "stdout",
     "output_type": "stream",
     "text": [
      "Train Dataset Info:\n",
      "<class 'pandas.core.frame.DataFrame'>\n",
      "RangeIndex: 8068 entries, 0 to 8067\n",
      "Data columns (total 11 columns):\n",
      " #   Column           Non-Null Count  Dtype  \n",
      "---  ------           --------------  -----  \n",
      " 0   ID               8068 non-null   int64  \n",
      " 1   Gender           8068 non-null   object \n",
      " 2   Ever_Married     7928 non-null   object \n",
      " 3   Age              8068 non-null   int64  \n",
      " 4   Graduated        7990 non-null   object \n",
      " 5   Profession       7944 non-null   object \n",
      " 6   Work_Experience  7239 non-null   float64\n",
      " 7   Spending_Score   8068 non-null   object \n",
      " 8   Family_Size      7733 non-null   float64\n",
      " 9   Var_1            7992 non-null   object \n",
      " 10  Segmentation     8068 non-null   object \n",
      "dtypes: float64(2), int64(2), object(7)\n",
      "memory usage: 693.5+ KB\n",
      "None\n",
      "\n",
      "Test Dataset Info:\n",
      "<class 'pandas.core.frame.DataFrame'>\n",
      "RangeIndex: 2627 entries, 0 to 2626\n",
      "Data columns (total 10 columns):\n",
      " #   Column           Non-Null Count  Dtype  \n",
      "---  ------           --------------  -----  \n",
      " 0   ID               2627 non-null   int64  \n",
      " 1   Gender           2627 non-null   object \n",
      " 2   Ever_Married     2577 non-null   object \n",
      " 3   Age              2627 non-null   int64  \n",
      " 4   Graduated        2603 non-null   object \n",
      " 5   Profession       2589 non-null   object \n",
      " 6   Work_Experience  2358 non-null   float64\n",
      " 7   Spending_Score   2627 non-null   object \n",
      " 8   Family_Size      2514 non-null   float64\n",
      " 9   Var_1            2595 non-null   object \n",
      "dtypes: float64(2), int64(2), object(6)\n",
      "memory usage: 205.4+ KB\n",
      "None\n"
     ]
    }
   ],
   "source": [
    "# Show basic information about the datasets\n",
    "print(\"Train Dataset Info:\")\n",
    "print(train_data.info())\n",
    "print(\"\\nTest Dataset Info:\")\n",
    "print(test_data.info())"
   ]
  },
  {
   "cell_type": "code",
   "execution_count": 6,
   "metadata": {},
   "outputs": [
    {
     "name": "stdout",
     "output_type": "stream",
     "text": [
      "\n",
      "Summary Statistics for Train Dataset:\n",
      "                  ID          Age  Work_Experience  Family_Size\n",
      "count    8068.000000  8068.000000      7239.000000  7733.000000\n",
      "mean   463479.214551    43.466906         2.641663     2.850123\n",
      "std      2595.381232    16.711696         3.406763     1.531413\n",
      "min    458982.000000    18.000000         0.000000     1.000000\n",
      "25%    461240.750000    30.000000         0.000000     2.000000\n",
      "50%    463472.500000    40.000000         1.000000     3.000000\n",
      "75%    465744.250000    53.000000         4.000000     4.000000\n",
      "max    467974.000000    89.000000        14.000000     9.000000\n",
      "\n",
      "Summary Statistics for Test Dataset:\n",
      "                  ID          Age  Work_Experience  Family_Size\n",
      "count    2627.000000  2627.000000      2358.000000  2514.000000\n",
      "mean   463433.918919    43.649791         2.552587     2.825378\n",
      "std      2618.245698    16.967015         3.341094     1.551906\n",
      "min    458989.000000    18.000000         0.000000     1.000000\n",
      "25%    461162.500000    30.000000         0.000000     2.000000\n",
      "50%    463379.000000    41.000000         1.000000     2.000000\n",
      "75%    465696.000000    53.000000         4.000000     4.000000\n",
      "max    467968.000000    89.000000        14.000000     9.000000\n"
     ]
    }
   ],
   "source": [
    "# Summary statistics for numerical features\n",
    "print(\"\\nSummary Statistics for Train Dataset:\")\n",
    "print(train_data.describe())\n",
    "\n",
    "# Summary statistics for numerical features in test dataset\n",
    "print(\"\\nSummary Statistics for Test Dataset:\")\n",
    "print(test_data.describe())"
   ]
  },
  {
   "cell_type": "code",
   "execution_count": 7,
   "metadata": {},
   "outputs": [
    {
     "name": "stdout",
     "output_type": "stream",
     "text": [
      "\n",
      "Missing Values in Train Dataset:\n",
      "ID                   0\n",
      "Gender               0\n",
      "Ever_Married       140\n",
      "Age                  0\n",
      "Graduated           78\n",
      "Profession         124\n",
      "Work_Experience    829\n",
      "Spending_Score       0\n",
      "Family_Size        335\n",
      "Var_1               76\n",
      "Segmentation         0\n",
      "dtype: int64\n",
      "\n",
      "Missing Values in Test Dataset:\n",
      "ID                   0\n",
      "Gender               0\n",
      "Ever_Married        50\n",
      "Age                  0\n",
      "Graduated           24\n",
      "Profession          38\n",
      "Work_Experience    269\n",
      "Spending_Score       0\n",
      "Family_Size        113\n",
      "Var_1               32\n",
      "dtype: int64\n"
     ]
    }
   ],
   "source": [
    "# Count of missing values per column\n",
    "print(\"\\nMissing Values in Train Dataset:\")\n",
    "print(train_data.isnull().sum())\n",
    "\n",
    "# Count of missing values per column in test dataset\n",
    "print(\"\\nMissing Values in Test Dataset:\")\n",
    "print(test_data.isnull().sum())"
   ]
  }
 ],
 "metadata": {
  "kernelspec": {
   "display_name": "Python 3",
   "language": "python",
   "name": "python3"
  },
  "language_info": {
   "codemirror_mode": {
    "name": "ipython",
    "version": 3
   },
   "file_extension": ".py",
   "mimetype": "text/x-python",
   "name": "python",
   "nbconvert_exporter": "python",
   "pygments_lexer": "ipython3",
   "version": "3.12.2"
  }
 },
 "nbformat": 4,
 "nbformat_minor": 2
}
